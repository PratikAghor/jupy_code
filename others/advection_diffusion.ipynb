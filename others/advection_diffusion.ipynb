{
 "cells": [
  {
   "cell_type": "markdown",
   "metadata": {},
   "source": [
    "# Advection-Diffusion Equation\n",
    "## Ref - Perturbation Methods by Hinch Sec. 7.3\n",
    "\n",
    "### Author - Pratik Aghor\n",
    "\n",
    "* We consider an advection diffusion equation with strong advection and weak diffusion.\n",
    "$\\frac{\\partial f}{\\partial t} + \\frac{\\partial}{\\partial \\theta} (\\omega(\\theta)f) = \\epsilon \\frac{\\partial^{2} f}{\\partial \\theta^{2}}$\n",
    "\n",
    "with $t \\geq 0$, $0\\leq \\theta \\leq 2\\pi$ and $f(\\theta, t=0) = F(\\theta)$"
   ]
  },
  {
   "cell_type": "code",
   "execution_count": 1,
   "metadata": {},
   "outputs": [
    {
     "data": {
      "text/plain": [
       "advection_diffusion_integrate (generic function with 1 method)"
      ]
     },
     "execution_count": 1,
     "metadata": {},
     "output_type": "execute_result"
    }
   ],
   "source": [
    "function advection_diffusion_integrate(f, ω, ϵ, Lx, dt, Nt, nsave)\n",
    "    \n",
    "    Nx = length(f)                  # number of gridpoints\n",
    "    x = collect(0:(Nx-1)/Nx)*Lx\n",
    "    kx = vcat(0:Nx/2-1, 0, -Nx/2+1:-1)  # integer wavenumbers: exp(2*pi*kx*x/L)\n",
    "    @show kx\n",
    "    alpha = 2*pi*kx/Lx              # real wavenumbers:    exp(alpha*x)\n",
    "    D = 1im*alpha;                  # D = d/dx operator in Fourier space\n",
    "\n",
    "    # Express PDE as u_t = Lu + N(u), L is linear part, N nonlinear part.\n",
    "    # Then Crank-Nicolson Adams-Bashforth discretization is \n",
    "    # \n",
    "    # (I - dt/2 L) u^{n+1} = (I + dt/2 L) u^n + 3dt/2 N^n - dt/2 N^{n-1}\n",
    "    #\n",
    "    # let A = (I - dt/2 L) \n",
    "    #     B = (I + dt/2 L), then the CNAB timestep formula is\n",
    "    # \n",
    "    # u^{n+1} = A^{-1} (B u^n + 3dt/2 N^n - dt/2 N^{n-1}) \n",
    "\n",
    "    L = -ϵ.*(alpha.^2)        # linear operator \\epsilon*D^2 in Fourier space\n",
    "    \n",
    "    \n",
    "    Nsave = div(Nt, nsave)+1        # number of saved time steps, including t=0\n",
    "    t = (0:Nsave)*(dt*nsave)        # t timesteps\n",
    "    U = zeros(Nsave, Nx)            # matrix of u(xⱼ, tᵢ) values\n",
    "    U[1,:] = f                      # assign initial condition to U\n",
    "    s = 2                           # counter for saved data\n",
    "    \n",
    "    dt2  = dt/2\n",
    "    dt32 = 3*dt/2;\n",
    "    A_inv = (ones(Nx) - dt2*L).^(-1)\n",
    "    B     =  ones(Nx) + dt2*L\n",
    "\n",
    "    Nn  = -fft(ω.*f)    # -(\\omega u)_theta (spectral), notation Nn = N^n     = N(u(n dt))\n",
    "    Nn1 = copy(Nn)     #                   notation Nn1 = N^{n-1} = N(u((n-1) dt))\n",
    "    v  = fft(f)        # transform u to spectral\n",
    "\n",
    "    # timestepping loop\n",
    "    for n = 1:Nt\n",
    "        Nn1 = copy(Nn)                 # shift nonlinear term in time: N^{n-1} <- N^n\n",
    "        Nn  = -fft(real(ifft(v)).*ω) # compute Nn = -u u_x\n",
    "\n",
    "        v = A_inv .* (B .* v + dt32*Nn - dt2*Nn1)\n",
    "        \n",
    "        if mod(n, nsave) == 0\n",
    "            U[s,:] = real(ifft(v))\n",
    "            s += 1            \n",
    "        end\n",
    "    end\n",
    "\n",
    "    t,U\n",
    "end"
   ]
  },
  {
   "cell_type": "code",
   "execution_count": 4,
   "metadata": {},
   "outputs": [
    {
     "name": "stdout",
     "output_type": "stream",
     "text": [
      "kx = [0.0, 1.0, 2.0, 3.0, 4.0, 5.0, 6.0, 7.0, 8.0, 9.0, 10.0, 11.0, 12.0, 13.0, 14.0, 15.0, 16.0, 17.0, 18.0, 19.0, 20.0, 21.0, 22.0, 23.0, 24.0, 25.0, 26.0, 27.0, 28.0, 29.0, 30.0, 31.0, 32.0, 33.0, 34.0, 35.0, 36.0, 37.0, 38.0, 39.0, 40.0, 41.0, 42.0, 43.0, 44.0, 45.0, 46.0, 47.0, 48.0, 49.0, 50.0, 51.0, 52.0, 53.0, 54.0, 55.0, 56.0, 57.0, 58.0, 59.0, 60.0, 61.0, 62.0, 63.0, 64.0, 65.0, 66.0, 67.0, 68.0, 69.0, 70.0, 71.0, 72.0, 73.0, 74.0, 75.0, 76.0, 77.0, 78.0, 79.0, 80.0, 81.0, 82.0, 83.0, 84.0, 85.0, 86.0, 87.0, 88.0, 89.0, 90.0, 91.0, 92.0, 93.0, 94.0, 95.0, 96.0, 97.0, 98.0, 99.0, 100.0, 101.0, 102.0, 103.0, 104.0, 105.0, 106.0, 107.0, 108.0, 109.0, 110.0, 111.0, 112.0, 113.0, 114.0, 115.0, 116.0, 117.0, 118.0, 119.0, 120.0, 121.0, 122.0, 123.0, 124.0, 125.0, 126.0, 127.0, 0.0, -127.0, -126.0, -125.0, -124.0, -123.0, -122.0, -121.0, -120.0, -119.0, -118.0, -117.0, -116.0, -115.0, -114.0, -113.0, -112.0, -111.0, -110.0, -109.0, -108.0, -107.0, -106.0, -105.0, -104.0, -103.0, -102.0, -101.0, -100.0, -99.0, -98.0, -97.0, -96.0, -95.0, -94.0, -93.0, -92.0, -91.0, -90.0, -89.0, -88.0, -87.0, -86.0, -85.0, -84.0, -83.0, -82.0, -81.0, -80.0, -79.0, -78.0, -77.0, -76.0, -75.0, -74.0, -73.0, -72.0, -71.0, -70.0, -69.0, -68.0, -67.0, -66.0, -65.0, -64.0, -63.0, -62.0, -61.0, -60.0, -59.0, -58.0, -57.0, -56.0, -55.0, -54.0, -53.0, -52.0, -51.0, -50.0, -49.0, -48.0, -47.0, -46.0, -45.0, -44.0, -43.0, -42.0, -41.0, -40.0, -39.0, -38.0, -37.0, -36.0, -35.0, -34.0, -33.0, -32.0, -31.0, -30.0, -29.0, -28.0, -27.0, -26.0, -25.0, -24.0, -23.0, -22.0, -21.0, -20.0, -19.0, -18.0, -17.0, -16.0, -15.0, -14.0, -13.0, -12.0, -11.0, -10.0, -9.0, -8.0, -7.0, -6.0, -5.0, -4.0, -3.0, -2.0, -1.0]\n"
     ]
    },
    {
     "data": {
      "text/plain": [
       "(0.0:0.0625:100.0625, [1.0 1.02454 … 0.950932 0.975459; 0.874996 0.894897 … 0.834981 0.85502; … ; 1.09266e-33 1.10775e-33 … 2.1228e-33 1.91678e-34; 1.44694e-33 -1.89003e-35 … 1.44683e-33 -3.6476e-34])"
      ]
     },
     "execution_count": 4,
     "metadata": {},
     "output_type": "execute_result"
    }
   ],
   "source": [
    "using FFTW\n",
    "\n",
    "Lx= 2*pi\n",
    "Nx = 256\n",
    "dt = 1/16\n",
    "nsave = 1\n",
    "Nt = 1600\n",
    "ϵ = 0.001\n",
    "\n",
    "θ = Lx*(0:Nx-1)/Nx\n",
    "ω = 2*ones(Nx) + sin.(θ)\n",
    "#IC \n",
    "F = ones(Nx) + sin.(θ)\n",
    "f = F\n",
    "t,U = advection_diffusion_integrate(f, ω, ϵ, Lx, dt, Nt, nsave)\n"
   ]
  },
  {
   "cell_type": "code",
   "execution_count": 5,
   "metadata": {},
   "outputs": [
    {
     "name": "stderr",
     "output_type": "stream",
     "text": [
      "┌ Info: Saved animation to \n",
      "│   fn = /home/aghor/Aghor/UNH/summer_2019/Chini/tmp.gif\n",
      "└ @ Plots /home/aghor/.julia/packages/Plots/47Tik/src/animation.jl:90\n",
      "┌ Info: Saved animation to \n",
      "│   fn = /home/aghor/Aghor/UNH/summer_2019/Chini/anim_fps2.gif\n",
      "└ @ Plots /home/aghor/.julia/packages/Plots/47Tik/src/animation.jl:90\n"
     ]
    },
    {
     "data": {
      "text/html": [
       "<img src=\"anim_fps2.gif\" />"
      ],
      "text/plain": [
       "Plots.AnimatedGif(\"/home/aghor/Aghor/UNH/summer_2019/Chini/anim_fps2.gif\")"
      ]
     },
     "execution_count": 5,
     "metadata": {},
     "output_type": "execute_result"
    }
   ],
   "source": [
    "using Plots\n",
    "anim = Animation()\n",
    "\n",
    "@gif for i in 1:(Int64)(Nt/nsave)\n",
    "    p = plot(θ, U[i, :])\n",
    "    plot!(p[1], legend=false, xlabel=\"theta\", ylabel=\"u\")\n",
    "    frame(anim)\n",
    "end\n",
    "gif(anim, \"/home/aghor/Aghor/UNH/summer_2019/Chini/anim_fps2.gif\")"
   ]
  },
  {
   "cell_type": "code",
   "execution_count": null,
   "metadata": {},
   "outputs": [],
   "source": []
  }
 ],
 "metadata": {
  "@webio": {
   "lastCommId": null,
   "lastKernelId": null
  },
  "kernelspec": {
   "display_name": "Julia 1.1.0",
   "language": "julia",
   "name": "julia-1.1"
  },
  "language_info": {
   "file_extension": ".jl",
   "mimetype": "application/julia",
   "name": "julia",
   "version": "1.1.0"
  }
 },
 "nbformat": 4,
 "nbformat_minor": 2
}
